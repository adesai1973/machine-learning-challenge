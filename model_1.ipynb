{
 "cells": [
  {
   "cell_type": "code",
   "execution_count": 1,
   "metadata": {},
   "outputs": [
    {
     "name": "stdout",
     "output_type": "stream",
     "text": [
      "Requirement already up-to-date: sklearn in /Users/ashishdesai/opt/anaconda3/envs/PythonData/lib/python3.6/site-packages (0.0)\n",
      "Requirement already satisfied, skipping upgrade: scikit-learn in /Users/ashishdesai/opt/anaconda3/envs/PythonData/lib/python3.6/site-packages (from sklearn) (0.22.1)\n",
      "Requirement already satisfied, skipping upgrade: joblib>=0.11 in /Users/ashishdesai/opt/anaconda3/envs/PythonData/lib/python3.6/site-packages (from scikit-learn->sklearn) (0.15.1)\n",
      "Requirement already satisfied, skipping upgrade: numpy>=1.11.0 in /Users/ashishdesai/opt/anaconda3/envs/PythonData/lib/python3.6/site-packages (from scikit-learn->sklearn) (1.18.1)\n",
      "Requirement already satisfied, skipping upgrade: scipy>=0.17.0 in /Users/ashishdesai/opt/anaconda3/envs/PythonData/lib/python3.6/site-packages (from scikit-learn->sklearn) (1.4.1)\n"
     ]
    }
   ],
   "source": [
    "# Update sklearn to prevent version mismatches\n",
    "!pip install sklearn --upgrade"
   ]
  },
  {
   "cell_type": "code",
   "execution_count": 2,
   "metadata": {},
   "outputs": [
    {
     "name": "stdout",
     "output_type": "stream",
     "text": [
      "Requirement already satisfied: joblib in /Users/ashishdesai/opt/anaconda3/envs/PythonData/lib/python3.6/site-packages (0.15.1)\r\n"
     ]
    }
   ],
   "source": [
    "# install joblib. This will be used to save your model. \n",
    "# Restart your kernel after installing \n",
    "!pip install joblib"
   ]
  },
  {
   "cell_type": "code",
   "execution_count": 3,
   "metadata": {},
   "outputs": [],
   "source": [
    "import pandas as pd"
   ]
  },
  {
   "cell_type": "markdown",
   "metadata": {},
   "source": [
    "# Read the CSV and Perform Basic Data Cleaning"
   ]
  },
  {
   "cell_type": "code",
   "execution_count": 4,
   "metadata": {},
   "outputs": [
    {
     "data": {
      "text/html": [
       "<div>\n",
       "<style scoped>\n",
       "    .dataframe tbody tr th:only-of-type {\n",
       "        vertical-align: middle;\n",
       "    }\n",
       "\n",
       "    .dataframe tbody tr th {\n",
       "        vertical-align: top;\n",
       "    }\n",
       "\n",
       "    .dataframe thead th {\n",
       "        text-align: right;\n",
       "    }\n",
       "</style>\n",
       "<table border=\"1\" class=\"dataframe\">\n",
       "  <thead>\n",
       "    <tr style=\"text-align: right;\">\n",
       "      <th></th>\n",
       "      <th>koi_disposition</th>\n",
       "      <th>koi_fpflag_nt</th>\n",
       "      <th>koi_fpflag_ss</th>\n",
       "      <th>koi_fpflag_co</th>\n",
       "      <th>koi_fpflag_ec</th>\n",
       "      <th>koi_period</th>\n",
       "      <th>koi_period_err1</th>\n",
       "      <th>koi_period_err2</th>\n",
       "      <th>koi_time0bk</th>\n",
       "      <th>koi_time0bk_err1</th>\n",
       "      <th>...</th>\n",
       "      <th>koi_steff_err2</th>\n",
       "      <th>koi_slogg</th>\n",
       "      <th>koi_slogg_err1</th>\n",
       "      <th>koi_slogg_err2</th>\n",
       "      <th>koi_srad</th>\n",
       "      <th>koi_srad_err1</th>\n",
       "      <th>koi_srad_err2</th>\n",
       "      <th>ra</th>\n",
       "      <th>dec</th>\n",
       "      <th>koi_kepmag</th>\n",
       "    </tr>\n",
       "  </thead>\n",
       "  <tbody>\n",
       "    <tr>\n",
       "      <th>0</th>\n",
       "      <td>CONFIRMED</td>\n",
       "      <td>0</td>\n",
       "      <td>0</td>\n",
       "      <td>0</td>\n",
       "      <td>0</td>\n",
       "      <td>54.418383</td>\n",
       "      <td>2.479000e-04</td>\n",
       "      <td>-2.479000e-04</td>\n",
       "      <td>162.513840</td>\n",
       "      <td>0.003520</td>\n",
       "      <td>...</td>\n",
       "      <td>-81</td>\n",
       "      <td>4.467</td>\n",
       "      <td>0.064</td>\n",
       "      <td>-0.096</td>\n",
       "      <td>0.927</td>\n",
       "      <td>0.105</td>\n",
       "      <td>-0.061</td>\n",
       "      <td>291.93423</td>\n",
       "      <td>48.141651</td>\n",
       "      <td>15.347</td>\n",
       "    </tr>\n",
       "    <tr>\n",
       "      <th>1</th>\n",
       "      <td>FALSE POSITIVE</td>\n",
       "      <td>0</td>\n",
       "      <td>1</td>\n",
       "      <td>0</td>\n",
       "      <td>0</td>\n",
       "      <td>19.899140</td>\n",
       "      <td>1.490000e-05</td>\n",
       "      <td>-1.490000e-05</td>\n",
       "      <td>175.850252</td>\n",
       "      <td>0.000581</td>\n",
       "      <td>...</td>\n",
       "      <td>-176</td>\n",
       "      <td>4.544</td>\n",
       "      <td>0.044</td>\n",
       "      <td>-0.176</td>\n",
       "      <td>0.868</td>\n",
       "      <td>0.233</td>\n",
       "      <td>-0.078</td>\n",
       "      <td>297.00482</td>\n",
       "      <td>48.134129</td>\n",
       "      <td>15.436</td>\n",
       "    </tr>\n",
       "    <tr>\n",
       "      <th>2</th>\n",
       "      <td>FALSE POSITIVE</td>\n",
       "      <td>0</td>\n",
       "      <td>1</td>\n",
       "      <td>0</td>\n",
       "      <td>0</td>\n",
       "      <td>1.736952</td>\n",
       "      <td>2.630000e-07</td>\n",
       "      <td>-2.630000e-07</td>\n",
       "      <td>170.307565</td>\n",
       "      <td>0.000115</td>\n",
       "      <td>...</td>\n",
       "      <td>-174</td>\n",
       "      <td>4.564</td>\n",
       "      <td>0.053</td>\n",
       "      <td>-0.168</td>\n",
       "      <td>0.791</td>\n",
       "      <td>0.201</td>\n",
       "      <td>-0.067</td>\n",
       "      <td>285.53461</td>\n",
       "      <td>48.285210</td>\n",
       "      <td>15.597</td>\n",
       "    </tr>\n",
       "    <tr>\n",
       "      <th>3</th>\n",
       "      <td>CONFIRMED</td>\n",
       "      <td>0</td>\n",
       "      <td>0</td>\n",
       "      <td>0</td>\n",
       "      <td>0</td>\n",
       "      <td>2.525592</td>\n",
       "      <td>3.760000e-06</td>\n",
       "      <td>-3.760000e-06</td>\n",
       "      <td>171.595550</td>\n",
       "      <td>0.001130</td>\n",
       "      <td>...</td>\n",
       "      <td>-211</td>\n",
       "      <td>4.438</td>\n",
       "      <td>0.070</td>\n",
       "      <td>-0.210</td>\n",
       "      <td>1.046</td>\n",
       "      <td>0.334</td>\n",
       "      <td>-0.133</td>\n",
       "      <td>288.75488</td>\n",
       "      <td>48.226200</td>\n",
       "      <td>15.509</td>\n",
       "    </tr>\n",
       "    <tr>\n",
       "      <th>4</th>\n",
       "      <td>CONFIRMED</td>\n",
       "      <td>0</td>\n",
       "      <td>0</td>\n",
       "      <td>0</td>\n",
       "      <td>0</td>\n",
       "      <td>4.134435</td>\n",
       "      <td>1.050000e-05</td>\n",
       "      <td>-1.050000e-05</td>\n",
       "      <td>172.979370</td>\n",
       "      <td>0.001900</td>\n",
       "      <td>...</td>\n",
       "      <td>-232</td>\n",
       "      <td>4.486</td>\n",
       "      <td>0.054</td>\n",
       "      <td>-0.229</td>\n",
       "      <td>0.972</td>\n",
       "      <td>0.315</td>\n",
       "      <td>-0.105</td>\n",
       "      <td>296.28613</td>\n",
       "      <td>48.224670</td>\n",
       "      <td>15.714</td>\n",
       "    </tr>\n",
       "  </tbody>\n",
       "</table>\n",
       "<p>5 rows × 41 columns</p>\n",
       "</div>"
      ],
      "text/plain": [
       "  koi_disposition  koi_fpflag_nt  koi_fpflag_ss  koi_fpflag_co  koi_fpflag_ec  \\\n",
       "0       CONFIRMED              0              0              0              0   \n",
       "1  FALSE POSITIVE              0              1              0              0   \n",
       "2  FALSE POSITIVE              0              1              0              0   \n",
       "3       CONFIRMED              0              0              0              0   \n",
       "4       CONFIRMED              0              0              0              0   \n",
       "\n",
       "   koi_period  koi_period_err1  koi_period_err2  koi_time0bk  \\\n",
       "0   54.418383     2.479000e-04    -2.479000e-04   162.513840   \n",
       "1   19.899140     1.490000e-05    -1.490000e-05   175.850252   \n",
       "2    1.736952     2.630000e-07    -2.630000e-07   170.307565   \n",
       "3    2.525592     3.760000e-06    -3.760000e-06   171.595550   \n",
       "4    4.134435     1.050000e-05    -1.050000e-05   172.979370   \n",
       "\n",
       "   koi_time0bk_err1  ...  koi_steff_err2  koi_slogg  koi_slogg_err1  \\\n",
       "0          0.003520  ...             -81      4.467           0.064   \n",
       "1          0.000581  ...            -176      4.544           0.044   \n",
       "2          0.000115  ...            -174      4.564           0.053   \n",
       "3          0.001130  ...            -211      4.438           0.070   \n",
       "4          0.001900  ...            -232      4.486           0.054   \n",
       "\n",
       "   koi_slogg_err2  koi_srad  koi_srad_err1  koi_srad_err2         ra  \\\n",
       "0          -0.096     0.927          0.105         -0.061  291.93423   \n",
       "1          -0.176     0.868          0.233         -0.078  297.00482   \n",
       "2          -0.168     0.791          0.201         -0.067  285.53461   \n",
       "3          -0.210     1.046          0.334         -0.133  288.75488   \n",
       "4          -0.229     0.972          0.315         -0.105  296.28613   \n",
       "\n",
       "         dec  koi_kepmag  \n",
       "0  48.141651      15.347  \n",
       "1  48.134129      15.436  \n",
       "2  48.285210      15.597  \n",
       "3  48.226200      15.509  \n",
       "4  48.224670      15.714  \n",
       "\n",
       "[5 rows x 41 columns]"
      ]
     },
     "execution_count": 4,
     "metadata": {},
     "output_type": "execute_result"
    }
   ],
   "source": [
    "df = pd.read_csv(\"exoplanet_data.csv\")\n",
    "# Drop the null columns where all values are null\n",
    "df = df.dropna(axis='columns', how='all')\n",
    "# Drop the null rows\n",
    "df = df.dropna()\n",
    "df.head()"
   ]
  },
  {
   "cell_type": "markdown",
   "metadata": {},
   "source": [
    "# Select your features (columns)"
   ]
  },
  {
   "cell_type": "code",
   "execution_count": 5,
   "metadata": {},
   "outputs": [
    {
     "data": {
      "text/html": [
       "<div>\n",
       "<style scoped>\n",
       "    .dataframe tbody tr th:only-of-type {\n",
       "        vertical-align: middle;\n",
       "    }\n",
       "\n",
       "    .dataframe tbody tr th {\n",
       "        vertical-align: top;\n",
       "    }\n",
       "\n",
       "    .dataframe thead th {\n",
       "        text-align: right;\n",
       "    }\n",
       "</style>\n",
       "<table border=\"1\" class=\"dataframe\">\n",
       "  <thead>\n",
       "    <tr style=\"text-align: right;\">\n",
       "      <th></th>\n",
       "      <th>koi_fpflag_nt</th>\n",
       "      <th>koi_fpflag_ss</th>\n",
       "      <th>koi_fpflag_co</th>\n",
       "      <th>koi_fpflag_ec</th>\n",
       "      <th>koi_period</th>\n",
       "      <th>koi_period_err1</th>\n",
       "      <th>koi_period_err2</th>\n",
       "      <th>koi_time0bk</th>\n",
       "      <th>koi_time0bk_err1</th>\n",
       "      <th>koi_time0bk_err2</th>\n",
       "      <th>...</th>\n",
       "      <th>koi_steff_err2</th>\n",
       "      <th>koi_slogg</th>\n",
       "      <th>koi_slogg_err1</th>\n",
       "      <th>koi_slogg_err2</th>\n",
       "      <th>koi_srad</th>\n",
       "      <th>koi_srad_err1</th>\n",
       "      <th>koi_srad_err2</th>\n",
       "      <th>ra</th>\n",
       "      <th>dec</th>\n",
       "      <th>koi_kepmag</th>\n",
       "    </tr>\n",
       "  </thead>\n",
       "  <tbody>\n",
       "    <tr>\n",
       "      <th>count</th>\n",
       "      <td>6991.000000</td>\n",
       "      <td>6991.000000</td>\n",
       "      <td>6991.000000</td>\n",
       "      <td>6991.000000</td>\n",
       "      <td>6991.000000</td>\n",
       "      <td>6.991000e+03</td>\n",
       "      <td>6.991000e+03</td>\n",
       "      <td>6991.000000</td>\n",
       "      <td>6991.000000</td>\n",
       "      <td>6991.000000</td>\n",
       "      <td>...</td>\n",
       "      <td>6991.000000</td>\n",
       "      <td>6991.000000</td>\n",
       "      <td>6991.000000</td>\n",
       "      <td>6991.00000</td>\n",
       "      <td>6991.000000</td>\n",
       "      <td>6991.000000</td>\n",
       "      <td>6991.000000</td>\n",
       "      <td>6991.000000</td>\n",
       "      <td>6991.000000</td>\n",
       "      <td>6991.000000</td>\n",
       "    </tr>\n",
       "    <tr>\n",
       "      <th>mean</th>\n",
       "      <td>0.157059</td>\n",
       "      <td>0.244743</td>\n",
       "      <td>0.202975</td>\n",
       "      <td>0.125018</td>\n",
       "      <td>56.191248</td>\n",
       "      <td>1.851122e-03</td>\n",
       "      <td>-1.851122e-03</td>\n",
       "      <td>164.488820</td>\n",
       "      <td>0.009340</td>\n",
       "      <td>-0.009340</td>\n",
       "      <td>...</td>\n",
       "      <td>-161.206980</td>\n",
       "      <td>4.305049</td>\n",
       "      <td>0.121091</td>\n",
       "      <td>-0.14048</td>\n",
       "      <td>1.740749</td>\n",
       "      <td>0.352710</td>\n",
       "      <td>-0.388568</td>\n",
       "      <td>292.082406</td>\n",
       "      <td>43.812143</td>\n",
       "      <td>14.271508</td>\n",
       "    </tr>\n",
       "    <tr>\n",
       "      <th>std</th>\n",
       "      <td>0.363882</td>\n",
       "      <td>0.429966</td>\n",
       "      <td>0.402243</td>\n",
       "      <td>0.330763</td>\n",
       "      <td>117.570962</td>\n",
       "      <td>7.184503e-03</td>\n",
       "      <td>7.184503e-03</td>\n",
       "      <td>67.020475</td>\n",
       "      <td>0.021989</td>\n",
       "      <td>0.021989</td>\n",
       "      <td>...</td>\n",
       "      <td>71.448481</td>\n",
       "      <td>0.439238</td>\n",
       "      <td>0.132048</td>\n",
       "      <td>0.08199</td>\n",
       "      <td>5.903415</td>\n",
       "      <td>0.839017</td>\n",
       "      <td>1.907797</td>\n",
       "      <td>4.762908</td>\n",
       "      <td>3.606167</td>\n",
       "      <td>1.350802</td>\n",
       "    </tr>\n",
       "    <tr>\n",
       "      <th>min</th>\n",
       "      <td>0.000000</td>\n",
       "      <td>0.000000</td>\n",
       "      <td>0.000000</td>\n",
       "      <td>0.000000</td>\n",
       "      <td>0.259820</td>\n",
       "      <td>1.100000e-08</td>\n",
       "      <td>-1.568000e-01</td>\n",
       "      <td>120.515914</td>\n",
       "      <td>0.000009</td>\n",
       "      <td>-0.569000</td>\n",
       "      <td>...</td>\n",
       "      <td>-1733.000000</td>\n",
       "      <td>0.047000</td>\n",
       "      <td>0.000000</td>\n",
       "      <td>-1.00700</td>\n",
       "      <td>0.109000</td>\n",
       "      <td>0.000000</td>\n",
       "      <td>-103.825000</td>\n",
       "      <td>279.856080</td>\n",
       "      <td>36.577381</td>\n",
       "      <td>6.966000</td>\n",
       "    </tr>\n",
       "    <tr>\n",
       "      <th>25%</th>\n",
       "      <td>0.000000</td>\n",
       "      <td>0.000000</td>\n",
       "      <td>0.000000</td>\n",
       "      <td>0.000000</td>\n",
       "      <td>2.620126</td>\n",
       "      <td>5.005000e-06</td>\n",
       "      <td>-2.401000e-04</td>\n",
       "      <td>132.683917</td>\n",
       "      <td>0.001145</td>\n",
       "      <td>-0.010000</td>\n",
       "      <td>...</td>\n",
       "      <td>-197.000000</td>\n",
       "      <td>4.209000</td>\n",
       "      <td>0.044000</td>\n",
       "      <td>-0.19500</td>\n",
       "      <td>0.829000</td>\n",
       "      <td>0.128000</td>\n",
       "      <td>-0.252000</td>\n",
       "      <td>288.704730</td>\n",
       "      <td>40.797760</td>\n",
       "      <td>13.455000</td>\n",
       "    </tr>\n",
       "    <tr>\n",
       "      <th>50%</th>\n",
       "      <td>0.000000</td>\n",
       "      <td>0.000000</td>\n",
       "      <td>0.000000</td>\n",
       "      <td>0.000000</td>\n",
       "      <td>8.947426</td>\n",
       "      <td>3.300000e-05</td>\n",
       "      <td>-3.300000e-05</td>\n",
       "      <td>136.739230</td>\n",
       "      <td>0.003990</td>\n",
       "      <td>-0.003990</td>\n",
       "      <td>...</td>\n",
       "      <td>-159.000000</td>\n",
       "      <td>4.436000</td>\n",
       "      <td>0.070000</td>\n",
       "      <td>-0.12700</td>\n",
       "      <td>0.999000</td>\n",
       "      <td>0.248000</td>\n",
       "      <td>-0.111000</td>\n",
       "      <td>292.314760</td>\n",
       "      <td>43.679661</td>\n",
       "      <td>14.534000</td>\n",
       "    </tr>\n",
       "    <tr>\n",
       "      <th>75%</th>\n",
       "      <td>0.000000</td>\n",
       "      <td>0.000000</td>\n",
       "      <td>0.000000</td>\n",
       "      <td>0.000000</td>\n",
       "      <td>34.282605</td>\n",
       "      <td>2.401000e-04</td>\n",
       "      <td>-5.005000e-06</td>\n",
       "      <td>169.937005</td>\n",
       "      <td>0.010000</td>\n",
       "      <td>-0.001145</td>\n",
       "      <td>...</td>\n",
       "      <td>-112.000000</td>\n",
       "      <td>4.543000</td>\n",
       "      <td>0.149000</td>\n",
       "      <td>-0.08800</td>\n",
       "      <td>1.357000</td>\n",
       "      <td>0.357000</td>\n",
       "      <td>-0.069000</td>\n",
       "      <td>295.888550</td>\n",
       "      <td>46.693659</td>\n",
       "      <td>15.322000</td>\n",
       "    </tr>\n",
       "    <tr>\n",
       "      <th>max</th>\n",
       "      <td>1.000000</td>\n",
       "      <td>1.000000</td>\n",
       "      <td>1.000000</td>\n",
       "      <td>1.000000</td>\n",
       "      <td>1071.232624</td>\n",
       "      <td>1.568000e-01</td>\n",
       "      <td>-1.100000e-08</td>\n",
       "      <td>1472.522306</td>\n",
       "      <td>0.569000</td>\n",
       "      <td>-0.000009</td>\n",
       "      <td>...</td>\n",
       "      <td>0.000000</td>\n",
       "      <td>5.364000</td>\n",
       "      <td>1.472000</td>\n",
       "      <td>0.00000</td>\n",
       "      <td>180.013000</td>\n",
       "      <td>25.956000</td>\n",
       "      <td>0.000000</td>\n",
       "      <td>301.720760</td>\n",
       "      <td>52.336010</td>\n",
       "      <td>19.065000</td>\n",
       "    </tr>\n",
       "  </tbody>\n",
       "</table>\n",
       "<p>8 rows × 40 columns</p>\n",
       "</div>"
      ],
      "text/plain": [
       "       koi_fpflag_nt  koi_fpflag_ss  koi_fpflag_co  koi_fpflag_ec  \\\n",
       "count    6991.000000    6991.000000    6991.000000    6991.000000   \n",
       "mean        0.157059       0.244743       0.202975       0.125018   \n",
       "std         0.363882       0.429966       0.402243       0.330763   \n",
       "min         0.000000       0.000000       0.000000       0.000000   \n",
       "25%         0.000000       0.000000       0.000000       0.000000   \n",
       "50%         0.000000       0.000000       0.000000       0.000000   \n",
       "75%         0.000000       0.000000       0.000000       0.000000   \n",
       "max         1.000000       1.000000       1.000000       1.000000   \n",
       "\n",
       "        koi_period  koi_period_err1  koi_period_err2  koi_time0bk  \\\n",
       "count  6991.000000     6.991000e+03     6.991000e+03  6991.000000   \n",
       "mean     56.191248     1.851122e-03    -1.851122e-03   164.488820   \n",
       "std     117.570962     7.184503e-03     7.184503e-03    67.020475   \n",
       "min       0.259820     1.100000e-08    -1.568000e-01   120.515914   \n",
       "25%       2.620126     5.005000e-06    -2.401000e-04   132.683917   \n",
       "50%       8.947426     3.300000e-05    -3.300000e-05   136.739230   \n",
       "75%      34.282605     2.401000e-04    -5.005000e-06   169.937005   \n",
       "max    1071.232624     1.568000e-01    -1.100000e-08  1472.522306   \n",
       "\n",
       "       koi_time0bk_err1  koi_time0bk_err2  ...  koi_steff_err2    koi_slogg  \\\n",
       "count       6991.000000       6991.000000  ...     6991.000000  6991.000000   \n",
       "mean           0.009340         -0.009340  ...     -161.206980     4.305049   \n",
       "std            0.021989          0.021989  ...       71.448481     0.439238   \n",
       "min            0.000009         -0.569000  ...    -1733.000000     0.047000   \n",
       "25%            0.001145         -0.010000  ...     -197.000000     4.209000   \n",
       "50%            0.003990         -0.003990  ...     -159.000000     4.436000   \n",
       "75%            0.010000         -0.001145  ...     -112.000000     4.543000   \n",
       "max            0.569000         -0.000009  ...        0.000000     5.364000   \n",
       "\n",
       "       koi_slogg_err1  koi_slogg_err2     koi_srad  koi_srad_err1  \\\n",
       "count     6991.000000      6991.00000  6991.000000    6991.000000   \n",
       "mean         0.121091        -0.14048     1.740749       0.352710   \n",
       "std          0.132048         0.08199     5.903415       0.839017   \n",
       "min          0.000000        -1.00700     0.109000       0.000000   \n",
       "25%          0.044000        -0.19500     0.829000       0.128000   \n",
       "50%          0.070000        -0.12700     0.999000       0.248000   \n",
       "75%          0.149000        -0.08800     1.357000       0.357000   \n",
       "max          1.472000         0.00000   180.013000      25.956000   \n",
       "\n",
       "       koi_srad_err2           ra          dec   koi_kepmag  \n",
       "count    6991.000000  6991.000000  6991.000000  6991.000000  \n",
       "mean       -0.388568   292.082406    43.812143    14.271508  \n",
       "std         1.907797     4.762908     3.606167     1.350802  \n",
       "min      -103.825000   279.856080    36.577381     6.966000  \n",
       "25%        -0.252000   288.704730    40.797760    13.455000  \n",
       "50%        -0.111000   292.314760    43.679661    14.534000  \n",
       "75%        -0.069000   295.888550    46.693659    15.322000  \n",
       "max         0.000000   301.720760    52.336010    19.065000  \n",
       "\n",
       "[8 rows x 40 columns]"
      ]
     },
     "execution_count": 5,
     "metadata": {},
     "output_type": "execute_result"
    }
   ],
   "source": [
    "df.describe()"
   ]
  },
  {
   "cell_type": "code",
   "execution_count": 6,
   "metadata": {},
   "outputs": [
    {
     "data": {
      "image/png": "[encoded data removed]",
      "text/plain": [
       "<Figure size 432x288 with 1 Axes>"
      ]
     },
     "metadata": {
      "needs_background": "light"
     },
     "output_type": "display_data"
    }
   ],
   "source": [
    "import matplotlib.pyplot as plt\n",
    "df.plot(kind='scatter',x='koi_period_err1',y='koi_period_err2',color='red')\n",
    "plt.show()"
   ]
  },
  {
   "cell_type": "code",
   "execution_count": 7,
   "metadata": {},
   "outputs": [
    {
     "data": {
      "image/png": "[encoded data removed]",
      "text/plain": [
       "<Figure size 432x288 with 1 Axes>"
      ]
     },
     "metadata": {
      "needs_background": "light"
     },
     "output_type": "display_data"
    }
   ],
   "source": [
    "df.plot(kind='scatter',x='koi_time0bk_err1',y='koi_time0bk_err2',color='red')\n",
    "plt.show()"
   ]
  },
  {
   "cell_type": "code",
   "execution_count": 8,
   "metadata": {},
   "outputs": [
    {
     "data": {
      "image/png": "[encoded data removed]",
      "text/plain": [
       "<Figure size 432x288 with 1 Axes>"
      ]
     },
     "metadata": {
      "needs_background": "light"
     },
     "output_type": "display_data"
    }
   ],
   "source": [
    "df.plot(kind='scatter',x='koi_impact_err1',y='koi_impact_err2',color='red')\n",
    "plt.show()"
   ]
  },
  {
   "cell_type": "code",
   "execution_count": 9,
   "metadata": {},
   "outputs": [
    {
     "data": {
      "image/png": "[encoded data removed]",
      "text/plain": [
       "<Figure size 432x288 with 1 Axes>"
      ]
     },
     "metadata": {
      "needs_background": "light"
     },
     "output_type": "display_data"
    }
   ],
   "source": [
    "df.plot(kind='scatter',x='koi_duration_err1',y='koi_duration_err2',color='red')\n",
    "plt.show()"
   ]
  },
  {
   "cell_type": "code",
   "execution_count": 10,
   "metadata": {},
   "outputs": [
    {
     "data": {
      "image/png": "[encoded data removed]",
      "text/plain": [
       "<Figure size 432x288 with 1 Axes>"
      ]
     },
     "metadata": {
      "needs_background": "light"
     },
     "output_type": "display_data"
    }
   ],
   "source": [
    "df.plot(kind='scatter',x='koi_depth_err1',y='koi_depth_err2',color='red')\n",
    "plt.show()"
   ]
  },
  {
   "cell_type": "code",
   "execution_count": 11,
   "metadata": {},
   "outputs": [
    {
     "data": {
      "image/png": "[encoded data removed]",
      "text/plain": [
       "<Figure size 432x288 with 1 Axes>"
      ]
     },
     "metadata": {
      "needs_background": "light"
     },
     "output_type": "display_data"
    }
   ],
   "source": [
    "df.plot(kind='scatter',x='koi_prad_err1',y='koi_prad_err2',color='red')\n",
    "plt.show()"
   ]
  },
  {
   "cell_type": "code",
   "execution_count": null,
   "metadata": {},
   "outputs": [],
   "source": []
  },
  {
   "cell_type": "code",
   "execution_count": 12,
   "metadata": {},
   "outputs": [
    {
     "data": {
      "image/png": "[encoded data removed]",
      "text/plain": [
       "<Figure size 432x288 with 1 Axes>"
      ]
     },
     "metadata": {
      "needs_background": "light"
     },
     "output_type": "display_data"
    }
   ],
   "source": [
    "df.plot(kind='scatter',x='koi_insol_err1',y='koi_insol_err2',color='red')\n",
    "plt.show()"
   ]
  },
  {
   "cell_type": "code",
   "execution_count": 13,
   "metadata": {},
   "outputs": [
    {
     "data": {
      "image/png": "[encoded data removed]",
      "text/plain": [
       "<Figure size 432x288 with 1 Axes>"
      ]
     },
     "metadata": {
      "needs_background": "light"
     },
     "output_type": "display_data"
    }
   ],
   "source": [
    "df.plot(kind='scatter',x='koi_steff_err1',y='koi_steff_err2',color='red')\n",
    "plt.show()"
   ]
  },
  {
   "cell_type": "code",
   "execution_count": 14,
   "metadata": {},
   "outputs": [
    {
     "data": {
      "image/png": "[encoded data removed]",
      "text/plain": [
       "<Figure size 432x288 with 1 Axes>"
      ]
     },
     "metadata": {
      "needs_background": "light"
     },
     "output_type": "display_data"
    }
   ],
   "source": [
    "df.plot(kind='scatter',x='koi_slogg_err1',y='koi_slogg_err2',color='red')\n",
    "plt.show()"
   ]
  },
  {
   "cell_type": "code",
   "execution_count": 15,
   "metadata": {},
   "outputs": [
    {
     "data": {
      "image/png": "[encoded data removed]",
      "text/plain": [
       "<Figure size 432x288 with 1 Axes>"
      ]
     },
     "metadata": {
      "needs_background": "light"
     },
     "output_type": "display_data"
    }
   ],
   "source": [
    "df.plot(kind='scatter',x='koi_slogg_err1',y='koi_slogg_err2',color='red')\n",
    "plt.show()"
   ]
  },
  {
   "cell_type": "code",
   "execution_count": 16,
   "metadata": {},
   "outputs": [
    {
     "data": {
      "image/png": "[encoded data removed]",
      "text/plain": [
       "<Figure size 432x288 with 1 Axes>"
      ]
     },
     "metadata": {
      "needs_background": "light"
     },
     "output_type": "display_data"
    }
   ],
   "source": [
    "df.plot(kind='scatter',x='koi_disposition',y='koi_srad_err1',color='red')\n",
    "plt.show()"
   ]
  },
  {
   "cell_type": "code",
   "execution_count": 17,
   "metadata": {},
   "outputs": [
    {
     "data": {
      "image/png": "[encoded data removed]",
      "text/plain": [
       "<Figure size 432x288 with 1 Axes>"
      ]
     },
     "metadata": {
      "needs_background": "light"
     },
     "output_type": "display_data"
    }
   ],
   "source": [
    "df.plot(kind='scatter',x='koi_disposition',y='koi_time0bk',color='red')\n",
    "plt.show()"
   ]
  },
  {
   "cell_type": "code",
   "execution_count": 18,
   "metadata": {},
   "outputs": [
    {
     "data": {
      "image/png": "[encoded data removed]",
      "text/plain": [
       "<Figure size 432x288 with 1 Axes>"
      ]
     },
     "metadata": {
      "needs_background": "light"
     },
     "output_type": "display_data"
    }
   ],
   "source": [
    "df.plot(kind='scatter',x='koi_disposition',y='koi_steff',color='red')\n",
    "plt.show()"
   ]
  },
  {
   "cell_type": "code",
   "execution_count": 19,
   "metadata": {},
   "outputs": [
    {
     "data": {
      "image/png": "[encoded data removed]",
      "text/plain": [
       "<Figure size 432x288 with 1 Axes>"
      ]
     },
     "metadata": {
      "needs_background": "light"
     },
     "output_type": "display_data"
    }
   ],
   "source": [
    "df.plot(kind='scatter',x='koi_disposition',y='koi_slogg',color='red')\n",
    "plt.show()"
   ]
  },
  {
   "cell_type": "code",
   "execution_count": 20,
   "metadata": {},
   "outputs": [
    {
     "data": {
      "image/png": "[encoded data removed]",
      "text/plain": [
       "<Figure size 432x288 with 1 Axes>"
      ]
     },
     "metadata": {
      "needs_background": "light"
     },
     "output_type": "display_data"
    }
   ],
   "source": [
    "df.plot(kind='scatter',x='koi_disposition',y='ra',color='red')\n",
    "plt.show()"
   ]
  },
  {
   "cell_type": "code",
   "execution_count": 21,
   "metadata": {},
   "outputs": [
    {
     "data": {
      "image/png": "[encoded data removed]",
      "text/plain": [
       "<Figure size 432x288 with 1 Axes>"
      ]
     },
     "metadata": {
      "needs_background": "light"
     },
     "output_type": "display_data"
    }
   ],
   "source": [
    "df.plot(kind='scatter',x='koi_disposition',y='koi_kepmag',color='red')\n",
    "plt.show()"
   ]
  },
  {
   "cell_type": "code",
   "execution_count": null,
   "metadata": {},
   "outputs": [],
   "source": []
  },
  {
   "cell_type": "code",
   "execution_count": 22,
   "metadata": {},
   "outputs": [],
   "source": [
    "# Set features. This will also be used as your x values.\n",
    "selected_features = df[['koi_disposition', 'koi_fpflag_nt', 'koi_fpflag_ss', \n",
    "                        'koi_fpflag_co', 'koi_fpflag_ec', 'koi_period',\n",
    "                        'koi_time0bk', 'koi_impact', 'koi_duration',      \n",
    "                        'koi_depth', 'koi_prad', 'koi_teq', 'koi_insol',   \n",
    "                        'koi_model_snr', 'koi_tce_plnt_num', 'koi_steff', 'koi_slogg', \n",
    "                        'koi_srad', 'ra', 'dec', 'koi_kepmag'\n",
    "\n",
    "                       ]]"
   ]
  },
  {
   "cell_type": "markdown",
   "metadata": {},
   "source": [
    "# Create a Train Test Split\n",
    "\n",
    "Use `koi_disposition` for the y values"
   ]
  },
  {
   "cell_type": "code",
   "execution_count": 23,
   "metadata": {},
   "outputs": [
    {
     "name": "stdout",
     "output_type": "stream",
     "text": [
      "(6991, 20) (6991, 1)\n"
     ]
    }
   ],
   "source": [
    "# Assign the data to X and y\n",
    "\n",
    "X = selected_features[['koi_fpflag_nt', 'koi_fpflag_ss', \n",
    "                        'koi_fpflag_co', 'koi_fpflag_ec', 'koi_period',\n",
    "                        'koi_time0bk', 'koi_impact', 'koi_duration',      \n",
    "                        'koi_depth', 'koi_prad', 'koi_teq', 'koi_insol',   \n",
    "                        'koi_model_snr', 'koi_tce_plnt_num', 'koi_steff', 'koi_slogg', \n",
    "                        'koi_srad', 'ra', 'dec', 'koi_kepmag']]\n",
    "y = selected_features[\"koi_disposition\"].values.reshape(-1, 1)\n",
    "print(X.shape, y.shape)"
   ]
  },
  {
   "cell_type": "code",
   "execution_count": 24,
   "metadata": {},
   "outputs": [
    {
     "name": "stderr",
     "output_type": "stream",
     "text": [
      "/Users/ashishdesai/opt/anaconda3/envs/PythonData/lib/python3.6/site-packages/sklearn/preprocessing/_label.py:235: DataConversionWarning: A column-vector y was passed when a 1d array was expected. Please change the shape of y to (n_samples, ), for example using ravel().\n",
      "  y = column_or_1d(y, warn=True)\n",
      "/Users/ashishdesai/opt/anaconda3/envs/PythonData/lib/python3.6/site-packages/sklearn/preprocessing/_label.py:268: DataConversionWarning: A column-vector y was passed when a 1d array was expected. Please change the shape of y to (n_samples, ), for example using ravel().\n",
      "  y = column_or_1d(y, warn=True)\n"
     ]
    },
    {
     "data": {
      "text/plain": [
       "array([1, 2, 2, ..., 0, 2, 2])"
      ]
     },
     "execution_count": 24,
     "metadata": {},
     "output_type": "execute_result"
    }
   ],
   "source": [
    "from sklearn.preprocessing import LabelEncoder\n",
    "\n",
    "# Step 1: Label-encode data set\n",
    "label_encoder = LabelEncoder()\n",
    "label_encoder.fit(y)\n",
    "encoded_y = label_encoder.transform(y)\n",
    "encoded_y"
   ]
  },
  {
   "cell_type": "code",
   "execution_count": 25,
   "metadata": {},
   "outputs": [
    {
     "name": "stderr",
     "output_type": "stream",
     "text": [
      "Using TensorFlow backend.\n"
     ]
    },
    {
     "data": {
      "text/plain": [
       "array([[0., 1., 0.],\n",
       "       [0., 0., 1.],\n",
       "       [0., 0., 1.],\n",
       "       ...,\n",
       "       [1., 0., 0.],\n",
       "       [0., 0., 1.],\n",
       "       [0., 0., 1.]], dtype=float32)"
      ]
     },
     "execution_count": 25,
     "metadata": {},
     "output_type": "execute_result"
    }
   ],
   "source": [
    "from keras.utils import to_categorical\n",
    "\n",
    "# Step 2: One-hot encoding\n",
    "one_hot_y = to_categorical(encoded_y)\n",
    "one_hot_y"
   ]
  },
  {
   "cell_type": "code",
   "execution_count": 26,
   "metadata": {},
   "outputs": [],
   "source": [
    "# Use train_test_split to create training and testing data\n",
    "\n",
    "from sklearn.model_selection import train_test_split\n",
    "\n",
    "X_train, X_test, y_train, y_test = train_test_split(X, encoded_y, random_state=42)"
   ]
  },
  {
   "cell_type": "code",
   "execution_count": 27,
   "metadata": {},
   "outputs": [
    {
     "data": {
      "text/html": [
       "<div>\n",
       "<style scoped>\n",
       "    .dataframe tbody tr th:only-of-type {\n",
       "        vertical-align: middle;\n",
       "    }\n",
       "\n",
       "    .dataframe tbody tr th {\n",
       "        vertical-align: top;\n",
       "    }\n",
       "\n",
       "    .dataframe thead th {\n",
       "        text-align: right;\n",
       "    }\n",
       "</style>\n",
       "<table border=\"1\" class=\"dataframe\">\n",
       "  <thead>\n",
       "    <tr style=\"text-align: right;\">\n",
       "      <th></th>\n",
       "      <th>koi_fpflag_nt</th>\n",
       "      <th>koi_fpflag_ss</th>\n",
       "      <th>koi_fpflag_co</th>\n",
       "      <th>koi_fpflag_ec</th>\n",
       "      <th>koi_period</th>\n",
       "      <th>koi_time0bk</th>\n",
       "      <th>koi_impact</th>\n",
       "      <th>koi_duration</th>\n",
       "      <th>koi_depth</th>\n",
       "      <th>koi_prad</th>\n",
       "      <th>koi_teq</th>\n",
       "      <th>koi_insol</th>\n",
       "      <th>koi_model_snr</th>\n",
       "      <th>koi_tce_plnt_num</th>\n",
       "      <th>koi_steff</th>\n",
       "      <th>koi_slogg</th>\n",
       "      <th>koi_srad</th>\n",
       "      <th>ra</th>\n",
       "      <th>dec</th>\n",
       "      <th>koi_kepmag</th>\n",
       "    </tr>\n",
       "  </thead>\n",
       "  <tbody>\n",
       "    <tr>\n",
       "      <th>6122</th>\n",
       "      <td>0</td>\n",
       "      <td>0</td>\n",
       "      <td>0</td>\n",
       "      <td>0</td>\n",
       "      <td>6.768901</td>\n",
       "      <td>133.077240</td>\n",
       "      <td>0.150</td>\n",
       "      <td>3.61600</td>\n",
       "      <td>123.1</td>\n",
       "      <td>1.24</td>\n",
       "      <td>1017</td>\n",
       "      <td>253.30</td>\n",
       "      <td>10.8</td>\n",
       "      <td>1</td>\n",
       "      <td>5737</td>\n",
       "      <td>4.327</td>\n",
       "      <td>1.125</td>\n",
       "      <td>294.40472</td>\n",
       "      <td>39.351681</td>\n",
       "      <td>14.725</td>\n",
       "    </tr>\n",
       "    <tr>\n",
       "      <th>6370</th>\n",
       "      <td>0</td>\n",
       "      <td>1</td>\n",
       "      <td>0</td>\n",
       "      <td>1</td>\n",
       "      <td>0.733726</td>\n",
       "      <td>132.020050</td>\n",
       "      <td>0.291</td>\n",
       "      <td>2.30900</td>\n",
       "      <td>114.6</td>\n",
       "      <td>0.86</td>\n",
       "      <td>1867</td>\n",
       "      <td>2891.64</td>\n",
       "      <td>13.8</td>\n",
       "      <td>1</td>\n",
       "      <td>5855</td>\n",
       "      <td>4.578</td>\n",
       "      <td>0.797</td>\n",
       "      <td>284.50391</td>\n",
       "      <td>42.463860</td>\n",
       "      <td>15.770</td>\n",
       "    </tr>\n",
       "    <tr>\n",
       "      <th>2879</th>\n",
       "      <td>1</td>\n",
       "      <td>0</td>\n",
       "      <td>0</td>\n",
       "      <td>0</td>\n",
       "      <td>7.652707</td>\n",
       "      <td>134.460380</td>\n",
       "      <td>0.970</td>\n",
       "      <td>79.89690</td>\n",
       "      <td>641.1</td>\n",
       "      <td>3.21</td>\n",
       "      <td>989</td>\n",
       "      <td>226.81</td>\n",
       "      <td>254.3</td>\n",
       "      <td>1</td>\n",
       "      <td>6328</td>\n",
       "      <td>4.481</td>\n",
       "      <td>0.963</td>\n",
       "      <td>295.50211</td>\n",
       "      <td>38.983540</td>\n",
       "      <td>13.099</td>\n",
       "    </tr>\n",
       "    <tr>\n",
       "      <th>107</th>\n",
       "      <td>0</td>\n",
       "      <td>0</td>\n",
       "      <td>0</td>\n",
       "      <td>0</td>\n",
       "      <td>7.953547</td>\n",
       "      <td>174.662240</td>\n",
       "      <td>0.300</td>\n",
       "      <td>2.63120</td>\n",
       "      <td>875.4</td>\n",
       "      <td>2.25</td>\n",
       "      <td>696</td>\n",
       "      <td>55.37</td>\n",
       "      <td>38.4</td>\n",
       "      <td>1</td>\n",
       "      <td>4768</td>\n",
       "      <td>4.536</td>\n",
       "      <td>0.779</td>\n",
       "      <td>291.15878</td>\n",
       "      <td>40.750271</td>\n",
       "      <td>15.660</td>\n",
       "    </tr>\n",
       "    <tr>\n",
       "      <th>29</th>\n",
       "      <td>0</td>\n",
       "      <td>0</td>\n",
       "      <td>0</td>\n",
       "      <td>0</td>\n",
       "      <td>4.959319</td>\n",
       "      <td>172.258529</td>\n",
       "      <td>0.831</td>\n",
       "      <td>2.22739</td>\n",
       "      <td>9802.0</td>\n",
       "      <td>12.21</td>\n",
       "      <td>1103</td>\n",
       "      <td>349.40</td>\n",
       "      <td>696.5</td>\n",
       "      <td>1</td>\n",
       "      <td>5712</td>\n",
       "      <td>4.359</td>\n",
       "      <td>1.082</td>\n",
       "      <td>292.16705</td>\n",
       "      <td>48.727589</td>\n",
       "      <td>15.263</td>\n",
       "    </tr>\n",
       "  </tbody>\n",
       "</table>\n",
       "</div>"
      ],
      "text/plain": [
       "      koi_fpflag_nt  koi_fpflag_ss  koi_fpflag_co  koi_fpflag_ec  koi_period  \\\n",
       "6122              0              0              0              0    6.768901   \n",
       "6370              0              1              0              1    0.733726   \n",
       "2879              1              0              0              0    7.652707   \n",
       "107               0              0              0              0    7.953547   \n",
       "29                0              0              0              0    4.959319   \n",
       "\n",
       "      koi_time0bk  koi_impact  koi_duration  koi_depth  koi_prad  koi_teq  \\\n",
       "6122   133.077240       0.150       3.61600      123.1      1.24     1017   \n",
       "6370   132.020050       0.291       2.30900      114.6      0.86     1867   \n",
       "2879   134.460380       0.970      79.89690      641.1      3.21      989   \n",
       "107    174.662240       0.300       2.63120      875.4      2.25      696   \n",
       "29     172.258529       0.831       2.22739     9802.0     12.21     1103   \n",
       "\n",
       "      koi_insol  koi_model_snr  koi_tce_plnt_num  koi_steff  koi_slogg  \\\n",
       "6122     253.30           10.8                 1       5737      4.327   \n",
       "6370    2891.64           13.8                 1       5855      4.578   \n",
       "2879     226.81          254.3                 1       6328      4.481   \n",
       "107       55.37           38.4                 1       4768      4.536   \n",
       "29       349.40          696.5                 1       5712      4.359   \n",
       "\n",
       "      koi_srad         ra        dec  koi_kepmag  \n",
       "6122     1.125  294.40472  39.351681      14.725  \n",
       "6370     0.797  284.50391  42.463860      15.770  \n",
       "2879     0.963  295.50211  38.983540      13.099  \n",
       "107      0.779  291.15878  40.750271      15.660  \n",
       "29       1.082  292.16705  48.727589      15.263  "
      ]
     },
     "execution_count": 27,
     "metadata": {},
     "output_type": "execute_result"
    }
   ],
   "source": [
    "X_train.head()"
   ]
  },
  {
   "cell_type": "code",
   "execution_count": 28,
   "metadata": {},
   "outputs": [
    {
     "data": {
      "text/plain": [
       "array([0, 2, 2, ..., 2, 2, 2])"
      ]
     },
     "execution_count": 28,
     "metadata": {},
     "output_type": "execute_result"
    }
   ],
   "source": [
    "y_train"
   ]
  },
  {
   "cell_type": "code",
   "execution_count": 29,
   "metadata": {},
   "outputs": [],
   "source": [
    "# Create the model using LinearRegression\n",
    "\n",
    "from sklearn.linear_model import LinearRegression\n",
    "\n",
    "model = LinearRegression()\n"
   ]
  },
  {
   "cell_type": "code",
   "execution_count": 30,
   "metadata": {},
   "outputs": [
    {
     "name": "stdout",
     "output_type": "stream",
     "text": [
      "Training Score: 0.6564581133998855\n",
      "Testing Score: 0.6392797454884748\n"
     ]
    }
   ],
   "source": [
    "# Fit the model to the training data and calculate the scores for the training and testing data\n",
    "\n",
    "model.fit(X_train, y_train)\n",
    "\n",
    "training_score = model.score(X_train, y_train)\n",
    "testing_score = model.score(X_test, y_test)\n",
    "\n",
    "\n",
    "print(f\"Training Score: {training_score}\")\n",
    "print(f\"Testing Score: {testing_score}\")"
   ]
  },
  {
   "cell_type": "code",
   "execution_count": 31,
   "metadata": {},
   "outputs": [
    {
     "data": {
      "text/plain": [
       "Text(0.5, 1.0, 'Residual Plot')"
      ]
     },
     "execution_count": 31,
     "metadata": {},
     "output_type": "execute_result"
    },
    {
     "data": {
      "image/png": "[encoded data removed]",
      "text/plain": [
       "<Figure size 432x288 with 1 Axes>"
      ]
     },
     "metadata": {
      "needs_background": "light"
     },
     "output_type": "display_data"
    }
   ],
   "source": [
    "# Plot the Residuals for the Training and Testing data\n",
    "\n",
    "plt.scatter(model.predict(X_train), model.predict(X_train) - y_train, c=\"blue\", label=\"Training Data\")\n",
    "plt.scatter(model.predict(X_test), model.predict(X_test) - y_test, c=\"orange\", label=\"Testing Data\")\n",
    "plt.legend()\n",
    "plt.hlines(y=0, xmin=y.min(), xmax=y.max())\n",
    "plt.title(\"Residual Plot\")"
   ]
  },
  {
   "cell_type": "code",
   "execution_count": 32,
   "metadata": {},
   "outputs": [],
   "source": [
    "from tensorflow.keras.models import Sequential\n",
    "\n",
    "model = Sequential()\n",
    "\n",
    "from tensorflow.keras.layers import Dense\n",
    "\n",
    "number_inputs = 20\n",
    "number_hidden_nodes = 100\n",
    "model.add(Dense(units=number_hidden_nodes,\n",
    "                activation='relu', input_dim=number_inputs))"
   ]
  },
  {
   "cell_type": "code",
   "execution_count": 33,
   "metadata": {},
   "outputs": [],
   "source": [
    "number_classes = 3\n",
    "model.add(Dense(units=number_classes, activation='softmax'))"
   ]
  },
  {
   "cell_type": "code",
   "execution_count": 34,
   "metadata": {},
   "outputs": [
    {
     "name": "stdout",
     "output_type": "stream",
     "text": [
      "Model: \"sequential\"\n",
      "_________________________________________________________________\n",
      "Layer (type)                 Output Shape              Param #   \n",
      "=================================================================\n",
      "dense (Dense)                (None, 100)               2100      \n",
      "_________________________________________________________________\n",
      "dense_1 (Dense)              (None, 3)                 303       \n",
      "=================================================================\n",
      "Total params: 2,403\n",
      "Trainable params: 2,403\n",
      "Non-trainable params: 0\n",
      "_________________________________________________________________\n"
     ]
    }
   ],
   "source": [
    "model.summary()"
   ]
  },
  {
   "cell_type": "code",
   "execution_count": 35,
   "metadata": {},
   "outputs": [],
   "source": [
    "from sklearn.preprocessing import StandardScaler\n",
    "\n",
    "X_scaler = StandardScaler().fit(X_train)"
   ]
  },
  {
   "cell_type": "code",
   "execution_count": 36,
   "metadata": {},
   "outputs": [],
   "source": [
    "X_train_scaled = X_scaler.transform(X_train)\n",
    "X_test_scaled = X_scaler.transform(X_test)"
   ]
  },
  {
   "cell_type": "code",
   "execution_count": 37,
   "metadata": {},
   "outputs": [
    {
     "data": {
      "text/plain": [
       "array([[1., 0., 0.],\n",
       "       [0., 0., 1.],\n",
       "       [0., 0., 1.],\n",
       "       ...,\n",
       "       [0., 0., 1.],\n",
       "       [0., 0., 1.],\n",
       "       [0., 0., 1.]], dtype=float32)"
      ]
     },
     "execution_count": 37,
     "metadata": {},
     "output_type": "execute_result"
    }
   ],
   "source": [
    "# One-hot encoding\n",
    "y_train_categorical = to_categorical(y_train)\n",
    "y_test_categorical = to_categorical(y_test)\n",
    "y_train_categorical"
   ]
  },
  {
   "cell_type": "code",
   "execution_count": 38,
   "metadata": {},
   "outputs": [],
   "source": [
    "# Use categorical crossentropy for categorical data and mean squared error for regression\n",
    "# Hint: your output layer in this example is using software for logistic regression (categorical)\n",
    "# If your output layer activation was `linear` then you may want to use `mse` for loss\n",
    "model.compile(optimizer='adam',\n",
    "              loss='categorical_crossentropy',\n",
    "              metrics=['accuracy'])"
   ]
  },
  {
   "cell_type": "code",
   "execution_count": 40,
   "metadata": {},
   "outputs": [
    {
     "name": "stdout",
     "output_type": "stream",
     "text": [
      "Train on 5243 samples\n",
      "Epoch 1/200\n",
      "5243/5243 - 0s - loss: 0.1705 - accuracy: 0.9264\n",
      "Epoch 2/200\n",
      "5243/5243 - 0s - loss: 0.1695 - accuracy: 0.9247\n",
      "Epoch 3/200\n",
      "5243/5243 - 0s - loss: 0.1676 - accuracy: 0.9258\n",
      "Epoch 4/200\n",
      "5243/5243 - 0s - loss: 0.1683 - accuracy: 0.9247\n",
      "Epoch 5/200\n",
      "5243/5243 - 0s - loss: 0.1696 - accuracy: 0.9281\n",
      "Epoch 6/200\n",
      "5243/5243 - 0s - loss: 0.1703 - accuracy: 0.9252\n",
      "Epoch 7/200\n",
      "5243/5243 - 0s - loss: 0.1684 - accuracy: 0.9281\n",
      "Epoch 8/200\n",
      "5243/5243 - 0s - loss: 0.1683 - accuracy: 0.9250\n",
      "Epoch 9/200\n",
      "5243/5243 - 0s - loss: 0.1686 - accuracy: 0.9258\n",
      "Epoch 10/200\n",
      "5243/5243 - 0s - loss: 0.1679 - accuracy: 0.9254\n",
      "Epoch 11/200\n",
      "5243/5243 - 0s - loss: 0.1660 - accuracy: 0.9270\n",
      "Epoch 12/200\n",
      "5243/5243 - 0s - loss: 0.1667 - accuracy: 0.9258\n",
      "Epoch 13/200\n",
      "5243/5243 - 0s - loss: 0.1672 - accuracy: 0.9273\n",
      "Epoch 14/200\n",
      "5243/5243 - 0s - loss: 0.1687 - accuracy: 0.9245\n",
      "Epoch 15/200\n",
      "5243/5243 - 0s - loss: 0.1653 - accuracy: 0.9252\n",
      "Epoch 16/200\n",
      "5243/5243 - 0s - loss: 0.1678 - accuracy: 0.9254\n",
      "Epoch 17/200\n",
      "5243/5243 - 0s - loss: 0.1684 - accuracy: 0.9237\n",
      "Epoch 18/200\n",
      "5243/5243 - 0s - loss: 0.1635 - accuracy: 0.9289\n",
      "Epoch 19/200\n",
      "5243/5243 - 0s - loss: 0.1645 - accuracy: 0.9283\n",
      "Epoch 20/200\n",
      "5243/5243 - 0s - loss: 0.1661 - accuracy: 0.9306\n",
      "Epoch 21/200\n",
      "5243/5243 - 0s - loss: 0.1644 - accuracy: 0.9298\n",
      "Epoch 22/200\n",
      "5243/5243 - 0s - loss: 0.1638 - accuracy: 0.9298\n",
      "Epoch 23/200\n",
      "5243/5243 - 0s - loss: 0.1655 - accuracy: 0.9277\n",
      "Epoch 24/200\n",
      "5243/5243 - 0s - loss: 0.1667 - accuracy: 0.9249\n",
      "Epoch 25/200\n",
      "5243/5243 - 0s - loss: 0.1618 - accuracy: 0.9302\n",
      "Epoch 26/200\n",
      "5243/5243 - 0s - loss: 0.1615 - accuracy: 0.9311\n",
      "Epoch 27/200\n",
      "5243/5243 - 0s - loss: 0.1664 - accuracy: 0.9281\n",
      "Epoch 28/200\n",
      "5243/5243 - 0s - loss: 0.1620 - accuracy: 0.9294\n",
      "Epoch 29/200\n",
      "5243/5243 - 0s - loss: 0.1609 - accuracy: 0.9321\n",
      "Epoch 30/200\n",
      "5243/5243 - 0s - loss: 0.1614 - accuracy: 0.9306\n",
      "Epoch 31/200\n",
      "5243/5243 - 0s - loss: 0.1619 - accuracy: 0.9275\n",
      "Epoch 32/200\n",
      "5243/5243 - 0s - loss: 0.1612 - accuracy: 0.9289\n",
      "Epoch 33/200\n",
      "5243/5243 - 0s - loss: 0.1624 - accuracy: 0.9283\n",
      "Epoch 34/200\n",
      "5243/5243 - 0s - loss: 0.1604 - accuracy: 0.9319\n",
      "Epoch 35/200\n",
      "5243/5243 - 0s - loss: 0.1613 - accuracy: 0.9315\n",
      "Epoch 36/200\n",
      "5243/5243 - 0s - loss: 0.1626 - accuracy: 0.9273\n",
      "Epoch 37/200\n",
      "5243/5243 - 0s - loss: 0.1602 - accuracy: 0.9306\n",
      "Epoch 38/200\n",
      "5243/5243 - 0s - loss: 0.1610 - accuracy: 0.9281\n",
      "Epoch 39/200\n",
      "5243/5243 - 0s - loss: 0.1594 - accuracy: 0.9315\n",
      "Epoch 40/200\n",
      "5243/5243 - 0s - loss: 0.1613 - accuracy: 0.9287\n",
      "Epoch 41/200\n",
      "5243/5243 - 0s - loss: 0.1585 - accuracy: 0.9352\n",
      "Epoch 42/200\n",
      "5243/5243 - 0s - loss: 0.1563 - accuracy: 0.9365\n",
      "Epoch 43/200\n",
      "5243/5243 - 0s - loss: 0.1574 - accuracy: 0.9327\n",
      "Epoch 44/200\n",
      "5243/5243 - 0s - loss: 0.1585 - accuracy: 0.9313\n",
      "Epoch 45/200\n",
      "5243/5243 - 0s - loss: 0.1594 - accuracy: 0.9264\n",
      "Epoch 46/200\n",
      "5243/5243 - 0s - loss: 0.1570 - accuracy: 0.9331\n",
      "Epoch 47/200\n",
      "5243/5243 - 0s - loss: 0.1576 - accuracy: 0.9313\n",
      "Epoch 48/200\n",
      "5243/5243 - 0s - loss: 0.1554 - accuracy: 0.9336\n",
      "Epoch 49/200\n",
      "5243/5243 - 0s - loss: 0.1565 - accuracy: 0.9334\n",
      "Epoch 50/200\n",
      "5243/5243 - 0s - loss: 0.1580 - accuracy: 0.9283\n",
      "Epoch 51/200\n",
      "5243/5243 - 0s - loss: 0.1577 - accuracy: 0.9298\n",
      "Epoch 52/200\n",
      "5243/5243 - 0s - loss: 0.1569 - accuracy: 0.9310\n",
      "Epoch 53/200\n",
      "5243/5243 - 0s - loss: 0.1553 - accuracy: 0.9334\n",
      "Epoch 54/200\n",
      "5243/5243 - 0s - loss: 0.1557 - accuracy: 0.9289\n",
      "Epoch 55/200\n",
      "5243/5243 - 0s - loss: 0.1558 - accuracy: 0.9306\n",
      "Epoch 56/200\n",
      "5243/5243 - 0s - loss: 0.1550 - accuracy: 0.9323\n",
      "Epoch 57/200\n",
      "5243/5243 - 0s - loss: 0.1572 - accuracy: 0.9304\n",
      "Epoch 58/200\n",
      "5243/5243 - 0s - loss: 0.1544 - accuracy: 0.9336\n",
      "Epoch 59/200\n",
      "5243/5243 - 0s - loss: 0.1547 - accuracy: 0.9340\n",
      "Epoch 60/200\n",
      "5243/5243 - 0s - loss: 0.1565 - accuracy: 0.9313\n",
      "Epoch 61/200\n",
      "5243/5243 - 0s - loss: 0.1543 - accuracy: 0.9350\n",
      "Epoch 62/200\n",
      "5243/5243 - 0s - loss: 0.1570 - accuracy: 0.9311\n",
      "Epoch 63/200\n",
      "5243/5243 - 0s - loss: 0.1541 - accuracy: 0.9325\n",
      "Epoch 64/200\n",
      "5243/5243 - 0s - loss: 0.1551 - accuracy: 0.9334\n",
      "Epoch 65/200\n",
      "5243/5243 - 0s - loss: 0.1524 - accuracy: 0.9355\n",
      "Epoch 66/200\n",
      "5243/5243 - 0s - loss: 0.1532 - accuracy: 0.9327\n",
      "Epoch 67/200\n",
      "5243/5243 - 0s - loss: 0.1504 - accuracy: 0.9367\n",
      "Epoch 68/200\n",
      "5243/5243 - 0s - loss: 0.1515 - accuracy: 0.9357\n",
      "Epoch 69/200\n",
      "5243/5243 - 0s - loss: 0.1527 - accuracy: 0.9352\n",
      "Epoch 70/200\n",
      "5243/5243 - 0s - loss: 0.1531 - accuracy: 0.9329\n",
      "Epoch 71/200\n",
      "5243/5243 - 0s - loss: 0.1505 - accuracy: 0.9380\n",
      "Epoch 72/200\n",
      "5243/5243 - 0s - loss: 0.1520 - accuracy: 0.9365\n",
      "Epoch 73/200\n",
      "5243/5243 - 0s - loss: 0.1515 - accuracy: 0.9346\n",
      "Epoch 74/200\n",
      "5243/5243 - 0s - loss: 0.1530 - accuracy: 0.9352\n",
      "Epoch 75/200\n",
      "5243/5243 - 0s - loss: 0.1518 - accuracy: 0.9365\n",
      "Epoch 76/200\n",
      "5243/5243 - 0s - loss: 0.1518 - accuracy: 0.9342\n",
      "Epoch 77/200\n",
      "5243/5243 - 0s - loss: 0.1503 - accuracy: 0.9371\n",
      "Epoch 78/200\n",
      "5243/5243 - 0s - loss: 0.1506 - accuracy: 0.9346\n",
      "Epoch 79/200\n",
      "5243/5243 - 0s - loss: 0.1487 - accuracy: 0.9386\n",
      "Epoch 80/200\n",
      "5243/5243 - 0s - loss: 0.1499 - accuracy: 0.9327\n",
      "Epoch 81/200\n",
      "5243/5243 - 0s - loss: 0.1521 - accuracy: 0.9308\n",
      "Epoch 82/200\n",
      "5243/5243 - 0s - loss: 0.1518 - accuracy: 0.9372\n",
      "Epoch 83/200\n",
      "5243/5243 - 0s - loss: 0.1477 - accuracy: 0.9392\n",
      "Epoch 84/200\n",
      "5243/5243 - 0s - loss: 0.1474 - accuracy: 0.9348\n",
      "Epoch 85/200\n",
      "5243/5243 - 0s - loss: 0.1478 - accuracy: 0.9350\n",
      "Epoch 86/200\n",
      "5243/5243 - 0s - loss: 0.1487 - accuracy: 0.9361\n",
      "Epoch 87/200\n",
      "5243/5243 - 0s - loss: 0.1476 - accuracy: 0.9348\n",
      "Epoch 88/200\n",
      "5243/5243 - 0s - loss: 0.1464 - accuracy: 0.9395\n",
      "Epoch 89/200\n",
      "5243/5243 - 0s - loss: 0.1484 - accuracy: 0.9388\n",
      "Epoch 90/200\n",
      "5243/5243 - 0s - loss: 0.1470 - accuracy: 0.9363\n",
      "Epoch 91/200\n",
      "5243/5243 - 0s - loss: 0.1484 - accuracy: 0.9378\n",
      "Epoch 92/200\n",
      "5243/5243 - 0s - loss: 0.1464 - accuracy: 0.9378\n",
      "Epoch 93/200\n",
      "5243/5243 - 0s - loss: 0.1448 - accuracy: 0.9371\n",
      "Epoch 94/200\n",
      "5243/5243 - 0s - loss: 0.1461 - accuracy: 0.9378\n",
      "Epoch 95/200\n",
      "5243/5243 - 0s - loss: 0.1459 - accuracy: 0.9359\n",
      "Epoch 96/200\n",
      "5243/5243 - 0s - loss: 0.1456 - accuracy: 0.9372\n",
      "Epoch 97/200\n",
      "5243/5243 - 0s - loss: 0.1457 - accuracy: 0.9359\n",
      "Epoch 98/200\n",
      "5243/5243 - 0s - loss: 0.1454 - accuracy: 0.9386\n",
      "Epoch 99/200\n",
      "5243/5243 - 0s - loss: 0.1460 - accuracy: 0.9378\n",
      "Epoch 100/200\n",
      "5243/5243 - 0s - loss: 0.1466 - accuracy: 0.9369\n",
      "Epoch 101/200\n",
      "5243/5243 - 0s - loss: 0.1436 - accuracy: 0.9414\n",
      "Epoch 102/200\n",
      "5243/5243 - 0s - loss: 0.1438 - accuracy: 0.9371\n",
      "Epoch 103/200\n",
      "5243/5243 - 0s - loss: 0.1425 - accuracy: 0.9413\n",
      "Epoch 104/200\n",
      "5243/5243 - 0s - loss: 0.1435 - accuracy: 0.9376\n",
      "Epoch 105/200\n",
      "5243/5243 - 0s - loss: 0.1431 - accuracy: 0.9416\n",
      "Epoch 106/200\n",
      "5243/5243 - 0s - loss: 0.1442 - accuracy: 0.9401\n",
      "Epoch 107/200\n",
      "5243/5243 - 0s - loss: 0.1440 - accuracy: 0.9418\n",
      "Epoch 108/200\n",
      "5243/5243 - 0s - loss: 0.1444 - accuracy: 0.9380\n",
      "Epoch 109/200\n",
      "5243/5243 - 0s - loss: 0.1415 - accuracy: 0.9414\n",
      "Epoch 110/200\n",
      "5243/5243 - 0s - loss: 0.1442 - accuracy: 0.9395\n",
      "Epoch 111/200\n",
      "5243/5243 - 0s - loss: 0.1446 - accuracy: 0.9399\n",
      "Epoch 112/200\n",
      "5243/5243 - 0s - loss: 0.1435 - accuracy: 0.9393\n",
      "Epoch 113/200\n",
      "5243/5243 - 0s - loss: 0.1402 - accuracy: 0.9409\n",
      "Epoch 114/200\n",
      "5243/5243 - 0s - loss: 0.1451 - accuracy: 0.9376\n",
      "Epoch 115/200\n",
      "5243/5243 - 0s - loss: 0.1406 - accuracy: 0.9411\n",
      "Epoch 116/200\n",
      "5243/5243 - 0s - loss: 0.1417 - accuracy: 0.9392\n",
      "Epoch 117/200\n",
      "5243/5243 - 0s - loss: 0.1416 - accuracy: 0.9390\n",
      "Epoch 118/200\n",
      "5243/5243 - 0s - loss: 0.1393 - accuracy: 0.9443\n",
      "Epoch 119/200\n",
      "5243/5243 - 0s - loss: 0.1407 - accuracy: 0.9426\n",
      "Epoch 120/200\n",
      "5243/5243 - 0s - loss: 0.1399 - accuracy: 0.9428\n",
      "Epoch 121/200\n",
      "5243/5243 - 0s - loss: 0.1387 - accuracy: 0.9437\n",
      "Epoch 122/200\n",
      "5243/5243 - 0s - loss: 0.1388 - accuracy: 0.9418\n",
      "Epoch 123/200\n",
      "5243/5243 - 0s - loss: 0.1384 - accuracy: 0.9437\n",
      "Epoch 124/200\n",
      "5243/5243 - 0s - loss: 0.1388 - accuracy: 0.9447\n",
      "Epoch 125/200\n",
      "5243/5243 - 0s - loss: 0.1388 - accuracy: 0.9424\n",
      "Epoch 126/200\n",
      "5243/5243 - 0s - loss: 0.1412 - accuracy: 0.9426\n",
      "Epoch 127/200\n",
      "5243/5243 - 0s - loss: 0.1370 - accuracy: 0.9441\n",
      "Epoch 128/200\n",
      "5243/5243 - 0s - loss: 0.1429 - accuracy: 0.9384\n",
      "Epoch 129/200\n",
      "5243/5243 - 0s - loss: 0.1385 - accuracy: 0.9437\n",
      "Epoch 130/200\n",
      "5243/5243 - 0s - loss: 0.1389 - accuracy: 0.9407\n",
      "Epoch 131/200\n",
      "5243/5243 - 0s - loss: 0.1392 - accuracy: 0.9428\n",
      "Epoch 132/200\n",
      "5243/5243 - 0s - loss: 0.1379 - accuracy: 0.9426\n"
     ]
    },
    {
     "name": "stdout",
     "output_type": "stream",
     "text": [
      "Epoch 133/200\n",
      "5243/5243 - 0s - loss: 0.1375 - accuracy: 0.9416\n",
      "Epoch 134/200\n",
      "5243/5243 - 0s - loss: 0.1358 - accuracy: 0.9460\n",
      "Epoch 135/200\n",
      "5243/5243 - 0s - loss: 0.1360 - accuracy: 0.9449\n",
      "Epoch 136/200\n",
      "5243/5243 - 0s - loss: 0.1365 - accuracy: 0.9405\n",
      "Epoch 137/200\n",
      "5243/5243 - 0s - loss: 0.1479 - accuracy: 0.9445\n",
      "Epoch 138/200\n",
      "5243/5243 - 0s - loss: 0.1369 - accuracy: 0.9401\n",
      "Epoch 139/200\n",
      "5243/5243 - 0s - loss: 0.1372 - accuracy: 0.9432\n",
      "Epoch 140/200\n",
      "5243/5243 - 0s - loss: 0.1377 - accuracy: 0.9453\n",
      "Epoch 141/200\n",
      "5243/5243 - 0s - loss: 0.1366 - accuracy: 0.9445\n",
      "Epoch 142/200\n",
      "5243/5243 - 0s - loss: 0.1359 - accuracy: 0.9464\n",
      "Epoch 143/200\n",
      "5243/5243 - 0s - loss: 0.1357 - accuracy: 0.9445\n",
      "Epoch 144/200\n",
      "5243/5243 - 0s - loss: 0.1322 - accuracy: 0.9474\n",
      "Epoch 145/200\n",
      "5243/5243 - 0s - loss: 0.1352 - accuracy: 0.9439\n",
      "Epoch 146/200\n",
      "5243/5243 - 0s - loss: 0.1340 - accuracy: 0.9462\n",
      "Epoch 147/200\n",
      "5243/5243 - 0s - loss: 0.1364 - accuracy: 0.9435\n",
      "Epoch 148/200\n",
      "5243/5243 - 0s - loss: 0.1336 - accuracy: 0.9458\n",
      "Epoch 149/200\n",
      "5243/5243 - 0s - loss: 0.1335 - accuracy: 0.9470\n",
      "Epoch 150/200\n",
      "5243/5243 - 0s - loss: 0.1340 - accuracy: 0.9434\n",
      "Epoch 151/200\n",
      "5243/5243 - 0s - loss: 0.1353 - accuracy: 0.9456\n",
      "Epoch 152/200\n",
      "5243/5243 - 0s - loss: 0.1342 - accuracy: 0.9472\n",
      "Epoch 153/200\n",
      "5243/5243 - 0s - loss: 0.1320 - accuracy: 0.9483\n",
      "Epoch 154/200\n",
      "5243/5243 - 0s - loss: 0.1351 - accuracy: 0.9439\n",
      "Epoch 155/200\n",
      "5243/5243 - 0s - loss: 0.1344 - accuracy: 0.9458\n",
      "Epoch 156/200\n",
      "5243/5243 - 0s - loss: 0.1358 - accuracy: 0.9443\n",
      "Epoch 157/200\n",
      "5243/5243 - 0s - loss: 0.1343 - accuracy: 0.9449\n",
      "Epoch 158/200\n",
      "5243/5243 - 0s - loss: 0.1342 - accuracy: 0.9460\n",
      "Epoch 159/200\n",
      "5243/5243 - 0s - loss: 0.1336 - accuracy: 0.9464\n",
      "Epoch 160/200\n",
      "5243/5243 - 0s - loss: 0.1335 - accuracy: 0.9445\n",
      "Epoch 161/200\n",
      "5243/5243 - 0s - loss: 0.1367 - accuracy: 0.9409\n",
      "Epoch 162/200\n",
      "5243/5243 - 0s - loss: 0.1338 - accuracy: 0.9441\n",
      "Epoch 163/200\n",
      "5243/5243 - 0s - loss: 0.1334 - accuracy: 0.9453\n",
      "Epoch 164/200\n",
      "5243/5243 - 0s - loss: 0.1328 - accuracy: 0.9464\n",
      "Epoch 165/200\n",
      "5243/5243 - 0s - loss: 0.1326 - accuracy: 0.9449\n",
      "Epoch 166/200\n",
      "5243/5243 - 0s - loss: 0.1316 - accuracy: 0.9441\n",
      "Epoch 167/200\n",
      "5243/5243 - 0s - loss: 0.1320 - accuracy: 0.9483\n",
      "Epoch 168/200\n",
      "5243/5243 - 0s - loss: 0.1297 - accuracy: 0.9516\n",
      "Epoch 169/200\n",
      "5243/5243 - 0s - loss: 0.1366 - accuracy: 0.9416\n",
      "Epoch 170/200\n",
      "5243/5243 - 0s - loss: 0.1321 - accuracy: 0.9458\n",
      "Epoch 171/200\n",
      "5243/5243 - 0s - loss: 0.1308 - accuracy: 0.9443\n",
      "Epoch 172/200\n",
      "5243/5243 - 0s - loss: 0.1323 - accuracy: 0.9464\n",
      "Epoch 173/200\n",
      "5243/5243 - 0s - loss: 0.1365 - accuracy: 0.9493\n",
      "Epoch 174/200\n",
      "5243/5243 - 0s - loss: 0.1320 - accuracy: 0.9439\n",
      "Epoch 175/200\n",
      "5243/5243 - 0s - loss: 0.1330 - accuracy: 0.9456\n",
      "Epoch 176/200\n",
      "5243/5243 - 0s - loss: 0.1279 - accuracy: 0.9504\n",
      "Epoch 177/200\n",
      "5243/5243 - 0s - loss: 0.1299 - accuracy: 0.9464\n",
      "Epoch 178/200\n",
      "5243/5243 - 0s - loss: 0.1305 - accuracy: 0.9498\n",
      "Epoch 179/200\n",
      "5243/5243 - 0s - loss: 0.1289 - accuracy: 0.9491\n",
      "Epoch 180/200\n",
      "5243/5243 - 0s - loss: 0.1286 - accuracy: 0.9491\n",
      "Epoch 181/200\n",
      "5243/5243 - 0s - loss: 0.1273 - accuracy: 0.9500\n",
      "Epoch 182/200\n",
      "5243/5243 - 0s - loss: 0.1296 - accuracy: 0.9495\n",
      "Epoch 183/200\n",
      "5243/5243 - 0s - loss: 0.1313 - accuracy: 0.9470\n",
      "Epoch 184/200\n",
      "5243/5243 - 0s - loss: 0.1285 - accuracy: 0.9472\n",
      "Epoch 185/200\n",
      "5243/5243 - 0s - loss: 0.1286 - accuracy: 0.9466\n",
      "Epoch 186/200\n",
      "5243/5243 - 0s - loss: 0.1300 - accuracy: 0.9462\n",
      "Epoch 187/200\n",
      "5243/5243 - 0s - loss: 0.1296 - accuracy: 0.9485\n",
      "Epoch 188/200\n",
      "5243/5243 - 0s - loss: 0.1265 - accuracy: 0.9491\n",
      "Epoch 189/200\n",
      "5243/5243 - 0s - loss: 0.1296 - accuracy: 0.9481\n",
      "Epoch 190/200\n",
      "5243/5243 - 0s - loss: 0.1283 - accuracy: 0.9477\n",
      "Epoch 191/200\n",
      "5243/5243 - 0s - loss: 0.1283 - accuracy: 0.9514\n",
      "Epoch 192/200\n",
      "5243/5243 - 0s - loss: 0.1277 - accuracy: 0.9477\n",
      "Epoch 193/200\n",
      "5243/5243 - 0s - loss: 0.1273 - accuracy: 0.9479\n",
      "Epoch 194/200\n",
      "5243/5243 - 0s - loss: 0.1268 - accuracy: 0.9485\n",
      "Epoch 195/200\n",
      "5243/5243 - 0s - loss: 0.1314 - accuracy: 0.9458\n",
      "Epoch 196/200\n",
      "5243/5243 - 0s - loss: 0.1341 - accuracy: 0.9441\n",
      "Epoch 197/200\n",
      "5243/5243 - 0s - loss: 0.1289 - accuracy: 0.9472\n",
      "Epoch 198/200\n",
      "5243/5243 - 0s - loss: 0.1279 - accuracy: 0.9496\n",
      "Epoch 199/200\n",
      "5243/5243 - 0s - loss: 0.1261 - accuracy: 0.9481\n",
      "Epoch 200/200\n",
      "5243/5243 - 0s - loss: 0.1257 - accuracy: 0.9508\n"
     ]
    },
    {
     "data": {
      "text/plain": [
       "<tensorflow.python.keras.callbacks.History at 0x7fa73019d0f0>"
      ]
     },
     "execution_count": 40,
     "metadata": {},
     "output_type": "execute_result"
    }
   ],
   "source": [
    "# Fit (train) the model\n",
    "model.fit(\n",
    "    X_train_scaled,\n",
    "    y_train_categorical,\n",
    "    epochs=200,\n",
    "    shuffle=True,\n",
    "    verbose=2\n",
    ")"
   ]
  },
  {
   "cell_type": "code",
   "execution_count": 41,
   "metadata": {},
   "outputs": [
    {
     "name": "stdout",
     "output_type": "stream",
     "text": [
      "1748/1 - 0s - loss: 0.5266 - accuracy: 0.8467\n",
      "Loss: 0.5998675233303, Accuracy: 0.8466818928718567\n"
     ]
    }
   ],
   "source": [
    "# Evaluate the model using the testing data\n",
    "model_loss, model_accuracy = model.evaluate(\n",
    "    X_test_scaled, y_test_categorical, verbose=2)\n",
    "print(f\"Loss: {model_loss}, Accuracy: {model_accuracy}\")"
   ]
  },
  {
   "cell_type": "code",
   "execution_count": null,
   "metadata": {},
   "outputs": [],
   "source": []
  },
  {
   "cell_type": "markdown",
   "metadata": {},
   "source": [
    "# Pre-processing\n",
    "\n",
    "Scale the data using the MinMaxScaler and perform some feature selection"
   ]
  },
  {
   "cell_type": "code",
   "execution_count": 42,
   "metadata": {},
   "outputs": [],
   "source": [
    "# Support vector machine linear classifier\n",
    "from sklearn.svm import SVC \n",
    "model = SVC(kernel='linear')"
   ]
  },
  {
   "cell_type": "code",
   "execution_count": 43,
   "metadata": {},
   "outputs": [],
   "source": [
    "# Create the GridSearch estimator along with a parameter object containing the values to adjust\n",
    "from sklearn.model_selection import GridSearchCV\n",
    "param_grid = {'C': [1, 5, 10],\n",
    "              'gamma': [0.0001, 0.001, 0.01]}\n",
    "grid = GridSearchCV(model, param_grid, verbose=3)"
   ]
  },
  {
   "cell_type": "code",
   "execution_count": 45,
   "metadata": {},
   "outputs": [
    {
     "name": "stdout",
     "output_type": "stream",
     "text": [
      "Fitting 5 folds for each of 9 candidates, totalling 45 fits\n",
      "[CV] C=1, gamma=0.0001 ...............................................\n"
     ]
    },
    {
     "name": "stderr",
     "output_type": "stream",
     "text": [
      "[Parallel(n_jobs=1)]: Using backend SequentialBackend with 1 concurrent workers.\n"
     ]
    },
    {
     "name": "stdout",
     "output_type": "stream",
     "text": [
      "[CV] ................... C=1, gamma=0.0001, score=0.847, total=   0.3s\n",
      "[CV] C=1, gamma=0.0001 ...............................................\n",
      "[CV] ................... C=1, gamma=0.0001, score=0.820, total=   0.2s\n",
      "[CV] C=1, gamma=0.0001 ...............................................\n"
     ]
    },
    {
     "name": "stderr",
     "output_type": "stream",
     "text": [
      "[Parallel(n_jobs=1)]: Done   1 out of   1 | elapsed:    0.3s remaining:    0.0s\n",
      "[Parallel(n_jobs=1)]: Done   2 out of   2 | elapsed:    0.5s remaining:    0.0s\n"
     ]
    },
    {
     "name": "stdout",
     "output_type": "stream",
     "text": [
      "[CV] ................... C=1, gamma=0.0001, score=0.821, total=   0.2s\n",
      "[CV] C=1, gamma=0.0001 ...............................................\n",
      "[CV] ................... C=1, gamma=0.0001, score=0.811, total=   0.2s\n",
      "[CV] C=1, gamma=0.0001 ...............................................\n",
      "[CV] ................... C=1, gamma=0.0001, score=0.822, total=   0.2s\n",
      "[CV] C=1, gamma=0.001 ................................................\n",
      "[CV] .................... C=1, gamma=0.001, score=0.847, total=   0.3s\n",
      "[CV] C=1, gamma=0.001 ................................................\n",
      "[CV] .................... C=1, gamma=0.001, score=0.820, total=   0.3s\n",
      "[CV] C=1, gamma=0.001 ................................................\n",
      "[CV] .................... C=1, gamma=0.001, score=0.821, total=   0.3s\n",
      "[CV] C=1, gamma=0.001 ................................................\n",
      "[CV] .................... C=1, gamma=0.001, score=0.811, total=   0.3s\n",
      "[CV] C=1, gamma=0.001 ................................................\n",
      "[CV] .................... C=1, gamma=0.001, score=0.822, total=   0.2s\n",
      "[CV] C=1, gamma=0.01 .................................................\n",
      "[CV] ..................... C=1, gamma=0.01, score=0.847, total=   0.3s\n",
      "[CV] C=1, gamma=0.01 .................................................\n",
      "[CV] ..................... C=1, gamma=0.01, score=0.820, total=   0.2s\n",
      "[CV] C=1, gamma=0.01 .................................................\n",
      "[CV] ..................... C=1, gamma=0.01, score=0.821, total=   0.2s\n",
      "[CV] C=1, gamma=0.01 .................................................\n",
      "[CV] ..................... C=1, gamma=0.01, score=0.811, total=   0.2s\n",
      "[CV] C=1, gamma=0.01 .................................................\n",
      "[CV] ..................... C=1, gamma=0.01, score=0.822, total=   0.2s\n",
      "[CV] C=5, gamma=0.0001 ...............................................\n",
      "[CV] ................... C=5, gamma=0.0001, score=0.847, total=   0.6s\n",
      "[CV] C=5, gamma=0.0001 ...............................................\n",
      "[CV] ................... C=5, gamma=0.0001, score=0.825, total=   0.5s\n",
      "[CV] C=5, gamma=0.0001 ...............................................\n",
      "[CV] ................... C=5, gamma=0.0001, score=0.822, total=   0.8s\n",
      "[CV] C=5, gamma=0.0001 ...............................................\n",
      "[CV] ................... C=5, gamma=0.0001, score=0.808, total=   0.7s\n",
      "[CV] C=5, gamma=0.0001 ...............................................\n",
      "[CV] ................... C=5, gamma=0.0001, score=0.825, total=   0.7s\n",
      "[CV] C=5, gamma=0.001 ................................................\n",
      "[CV] .................... C=5, gamma=0.001, score=0.847, total=   0.6s\n",
      "[CV] C=5, gamma=0.001 ................................................\n",
      "[CV] .................... C=5, gamma=0.001, score=0.825, total=   0.6s\n",
      "[CV] C=5, gamma=0.001 ................................................\n",
      "[CV] .................... C=5, gamma=0.001, score=0.822, total=   1.0s\n",
      "[CV] C=5, gamma=0.001 ................................................\n",
      "[CV] .................... C=5, gamma=0.001, score=0.808, total=   0.7s\n",
      "[CV] C=5, gamma=0.001 ................................................\n",
      "[CV] .................... C=5, gamma=0.001, score=0.825, total=   0.7s\n",
      "[CV] C=5, gamma=0.01 .................................................\n",
      "[CV] ..................... C=5, gamma=0.01, score=0.847, total=   0.7s\n",
      "[CV] C=5, gamma=0.01 .................................................\n",
      "[CV] ..................... C=5, gamma=0.01, score=0.825, total=   0.5s\n",
      "[CV] C=5, gamma=0.01 .................................................\n",
      "[CV] ..................... C=5, gamma=0.01, score=0.822, total=   0.8s\n",
      "[CV] C=5, gamma=0.01 .................................................\n",
      "[CV] ..................... C=5, gamma=0.01, score=0.808, total=   0.7s\n",
      "[CV] C=5, gamma=0.01 .................................................\n",
      "[CV] ..................... C=5, gamma=0.01, score=0.825, total=   0.8s\n",
      "[CV] C=10, gamma=0.0001 ..............................................\n",
      "[CV] .................. C=10, gamma=0.0001, score=0.852, total=   1.3s\n",
      "[CV] C=10, gamma=0.0001 ..............................................\n",
      "[CV] .................. C=10, gamma=0.0001, score=0.823, total=   1.0s\n",
      "[CV] C=10, gamma=0.0001 ..............................................\n",
      "[CV] .................. C=10, gamma=0.0001, score=0.822, total=   1.1s\n",
      "[CV] C=10, gamma=0.0001 ..............................................\n",
      "[CV] .................. C=10, gamma=0.0001, score=0.807, total=   1.3s\n",
      "[CV] C=10, gamma=0.0001 ..............................................\n",
      "[CV] .................. C=10, gamma=0.0001, score=0.827, total=   0.9s\n",
      "[CV] C=10, gamma=0.001 ...............................................\n",
      "[CV] ................... C=10, gamma=0.001, score=0.852, total=   1.1s\n",
      "[CV] C=10, gamma=0.001 ...............................................\n",
      "[CV] ................... C=10, gamma=0.001, score=0.823, total=   0.9s\n",
      "[CV] C=10, gamma=0.001 ...............................................\n",
      "[CV] ................... C=10, gamma=0.001, score=0.822, total=   1.2s\n",
      "[CV] C=10, gamma=0.001 ...............................................\n",
      "[CV] ................... C=10, gamma=0.001, score=0.807, total=   1.4s\n",
      "[CV] C=10, gamma=0.001 ...............................................\n",
      "[CV] ................... C=10, gamma=0.001, score=0.827, total=   0.9s\n",
      "[CV] C=10, gamma=0.01 ................................................\n",
      "[CV] .................... C=10, gamma=0.01, score=0.852, total=   1.1s\n",
      "[CV] C=10, gamma=0.01 ................................................\n",
      "[CV] .................... C=10, gamma=0.01, score=0.823, total=   0.9s\n",
      "[CV] C=10, gamma=0.01 ................................................\n",
      "[CV] .................... C=10, gamma=0.01, score=0.822, total=   1.1s\n",
      "[CV] C=10, gamma=0.01 ................................................\n",
      "[CV] .................... C=10, gamma=0.01, score=0.807, total=   1.3s\n",
      "[CV] C=10, gamma=0.01 ................................................\n",
      "[CV] .................... C=10, gamma=0.01, score=0.827, total=   1.0s\n"
     ]
    },
    {
     "name": "stderr",
     "output_type": "stream",
     "text": [
      "[Parallel(n_jobs=1)]: Done  45 out of  45 | elapsed:   30.5s finished\n"
     ]
    },
    {
     "data": {
      "text/plain": [
       "GridSearchCV(cv=None, error_score=nan,\n",
       "             estimator=SVC(C=1.0, break_ties=False, cache_size=200,\n",
       "                           class_weight=None, coef0=0.0,\n",
       "                           decision_function_shape='ovr', degree=3,\n",
       "                           gamma='scale', kernel='linear', max_iter=-1,\n",
       "                           probability=False, random_state=None, shrinking=True,\n",
       "                           tol=0.001, verbose=False),\n",
       "             iid='deprecated', n_jobs=None,\n",
       "             param_grid={'C': [1, 5, 10], 'gamma': [0.0001, 0.001, 0.01]},\n",
       "             pre_dispatch='2*n_jobs', refit=True, return_train_score=False,\n",
       "             scoring=None, verbose=3)"
      ]
     },
     "execution_count": 45,
     "metadata": {},
     "output_type": "execute_result"
    }
   ],
   "source": [
    "# Fit the model using the grid search estimator. \n",
    "# This will take the SVC model and try each combination of parameters\n",
    "grid.fit(X_train_scaled, y_train)"
   ]
  },
  {
   "cell_type": "code",
   "execution_count": 46,
   "metadata": {},
   "outputs": [
    {
     "name": "stdout",
     "output_type": "stream",
     "text": [
      "{'C': 10, 'gamma': 0.0001}\n"
     ]
    }
   ],
   "source": [
    "# List the best parameters for this dataset\n",
    "print(grid.best_params_)"
   ]
  },
  {
   "cell_type": "code",
   "execution_count": 47,
   "metadata": {},
   "outputs": [],
   "source": [
    "# Make predictions with the hypertuned model\n",
    "predictions = grid.predict(X_test)"
   ]
  },
  {
   "cell_type": "code",
   "execution_count": 48,
   "metadata": {},
   "outputs": [
    {
     "name": "stdout",
     "output_type": "stream",
     "text": [
      "Test Acc: 0.407\n"
     ]
    }
   ],
   "source": [
    "print('Test Acc: %.3f' % grid.score(X_test, y_test))"
   ]
  },
  {
   "cell_type": "code",
   "execution_count": 50,
   "metadata": {},
   "outputs": [
    {
     "name": "stdout",
     "output_type": "stream",
     "text": [
      "              precision    recall  f1-score   support\n",
      "\n",
      "        blue       0.06      0.02      0.03       411\n",
      "         red       0.00      0.00      0.00       484\n",
      "       green       0.44      0.82      0.58       853\n",
      "\n",
      "    accuracy                           0.41      1748\n",
      "   macro avg       0.17      0.28      0.20      1748\n",
      "weighted avg       0.23      0.41      0.29      1748\n",
      "\n"
     ]
    },
    {
     "name": "stderr",
     "output_type": "stream",
     "text": [
      "/Users/ashishdesai/opt/anaconda3/envs/PythonData/lib/python3.6/site-packages/sklearn/metrics/_classification.py:1272: UndefinedMetricWarning: Precision and F-score are ill-defined and being set to 0.0 in labels with no predicted samples. Use `zero_division` parameter to control this behavior.\n",
      "  _warn_prf(average, modifier, msg_start, len(result))\n"
     ]
    }
   ],
   "source": [
    "# Calculate classification report\n",
    "from sklearn.metrics import classification_report\n",
    "print(classification_report(y_test, predictions,\n",
    "                            target_names=[\"blue\", \"red\", \"green\"]))"
   ]
  },
  {
   "cell_type": "markdown",
   "metadata": {},
   "source": [
    "# Train the Model\n",
    "\n"
   ]
  },
  {
   "cell_type": "code",
   "execution_count": 52,
   "metadata": {},
   "outputs": [],
   "source": [
    "#print(f\"Training Data Score: {model.score(X_train_scaled, y_train)}\")\n",
    "#print(f\"Testing Data Score: {model.score(X_test_scaled, y_test)}\")"
   ]
  },
  {
   "cell_type": "markdown",
   "metadata": {},
   "source": [
    "# Hyperparameter Tuning\n",
    "\n",
    "Use `GridSearchCV` to tune the model's parameters"
   ]
  },
  {
   "cell_type": "code",
   "execution_count": 53,
   "metadata": {},
   "outputs": [],
   "source": [
    "# Create the GridSearchCV model"
   ]
  },
  {
   "cell_type": "code",
   "execution_count": null,
   "metadata": {},
   "outputs": [],
   "source": [
    "# Train the model with GridSearch"
   ]
  },
  {
   "cell_type": "code",
   "execution_count": 54,
   "metadata": {},
   "outputs": [
    {
     "name": "stdout",
     "output_type": "stream",
     "text": [
      "{'C': 10, 'gamma': 0.0001}\n",
      "0.8262410947540006\n"
     ]
    }
   ],
   "source": [
    "print(grid.best_params_)\n",
    "print(grid.best_score_)"
   ]
  },
  {
   "cell_type": "markdown",
   "metadata": {},
   "source": [
    "# Save the Model"
   ]
  },
  {
   "cell_type": "code",
   "execution_count": 56,
   "metadata": {},
   "outputs": [
    {
     "data": {
      "text/plain": [
       "['exoplanet_exploration.sav']"
      ]
     },
     "execution_count": 56,
     "metadata": {},
     "output_type": "execute_result"
    }
   ],
   "source": [
    "# save your model by updating \"your_name\" with your name\n",
    "# and \"your_model\" with your model variable\n",
    "# be sure to turn this in to BCS\n",
    "# if joblib fails to import, try running the command to install in terminal/git-bash\n",
    "import joblib\n",
    "filename = 'exoplanet_exploration.sav'\n",
    "joblib.dump(grid, filename)"
   ]
  },
  {
   "cell_type": "code",
   "execution_count": null,
   "metadata": {},
   "outputs": [],
   "source": []
  }
 ],
 "metadata": {
  "kernel_info": {
   "name": "dev"
  },
  "kernelspec": {
   "display_name": "Python [conda env:PythonData] *",
   "language": "python",
   "name": "conda-env-PythonData-py"
  },
  "language_info": {
   "codemirror_mode": {
    "name": "ipython",
    "version": 3
   },
   "file_extension": ".py",
   "mimetype": "text/x-python",
   "name": "python",
   "nbconvert_exporter": "python",
   "pygments_lexer": "ipython3",
   "version": "3.6.10"
  },
  "nteract": {
   "version": "0.12.3"
  }
 },
 "nbformat": 4,
 "nbformat_minor": 2
}
